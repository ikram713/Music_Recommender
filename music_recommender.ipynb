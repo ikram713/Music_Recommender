{
 "cells": [
  {
   "cell_type": "code",
   "execution_count": 356,
   "id": "cd398871",
   "metadata": {},
   "outputs": [],
   "source": [
    "import os\n",
    "import pandas as pd"
   ]
  },
  {
   "cell_type": "code",
   "execution_count": 357,
   "id": "22f36a99",
   "metadata": {},
   "outputs": [],
   "source": [
    "df = pd.read_csv('Data/spotify_millsongdata.csv')"
   ]
  },
  {
   "cell_type": "code",
   "execution_count": 358,
   "id": "947299a0",
   "metadata": {},
   "outputs": [
    {
     "data": {
      "text/html": [
       "<div>\n",
       "<style scoped>\n",
       "    .dataframe tbody tr th:only-of-type {\n",
       "        vertical-align: middle;\n",
       "    }\n",
       "\n",
       "    .dataframe tbody tr th {\n",
       "        vertical-align: top;\n",
       "    }\n",
       "\n",
       "    .dataframe thead th {\n",
       "        text-align: right;\n",
       "    }\n",
       "</style>\n",
       "<table border=\"1\" class=\"dataframe\">\n",
       "  <thead>\n",
       "    <tr style=\"text-align: right;\">\n",
       "      <th></th>\n",
       "      <th>artist</th>\n",
       "      <th>song</th>\n",
       "      <th>link</th>\n",
       "      <th>text</th>\n",
       "    </tr>\n",
       "  </thead>\n",
       "  <tbody>\n",
       "    <tr>\n",
       "      <th>0</th>\n",
       "      <td>ABBA</td>\n",
       "      <td>Ahe's My Kind Of Girl</td>\n",
       "      <td>/a/abba/ahes+my+kind+of+girl_20598417.html</td>\n",
       "      <td>Look at her face, it's a wonderful face  \\r\\nA...</td>\n",
       "    </tr>\n",
       "    <tr>\n",
       "      <th>1</th>\n",
       "      <td>ABBA</td>\n",
       "      <td>Andante, Andante</td>\n",
       "      <td>/a/abba/andante+andante_20002708.html</td>\n",
       "      <td>Take it easy with me, please  \\r\\nTouch me gen...</td>\n",
       "    </tr>\n",
       "    <tr>\n",
       "      <th>2</th>\n",
       "      <td>ABBA</td>\n",
       "      <td>As Good As New</td>\n",
       "      <td>/a/abba/as+good+as+new_20003033.html</td>\n",
       "      <td>I'll never know why I had to go  \\r\\nWhy I had...</td>\n",
       "    </tr>\n",
       "    <tr>\n",
       "      <th>3</th>\n",
       "      <td>ABBA</td>\n",
       "      <td>Bang</td>\n",
       "      <td>/a/abba/bang_20598415.html</td>\n",
       "      <td>Making somebody happy is a question of give an...</td>\n",
       "    </tr>\n",
       "    <tr>\n",
       "      <th>4</th>\n",
       "      <td>ABBA</td>\n",
       "      <td>Bang-A-Boomerang</td>\n",
       "      <td>/a/abba/bang+a+boomerang_20002668.html</td>\n",
       "      <td>Making somebody happy is a question of give an...</td>\n",
       "    </tr>\n",
       "  </tbody>\n",
       "</table>\n",
       "</div>"
      ],
      "text/plain": [
       "  artist                   song                                        link  \\\n",
       "0   ABBA  Ahe's My Kind Of Girl  /a/abba/ahes+my+kind+of+girl_20598417.html   \n",
       "1   ABBA       Andante, Andante       /a/abba/andante+andante_20002708.html   \n",
       "2   ABBA         As Good As New        /a/abba/as+good+as+new_20003033.html   \n",
       "3   ABBA                   Bang                  /a/abba/bang_20598415.html   \n",
       "4   ABBA       Bang-A-Boomerang      /a/abba/bang+a+boomerang_20002668.html   \n",
       "\n",
       "                                                text  \n",
       "0  Look at her face, it's a wonderful face  \\r\\nA...  \n",
       "1  Take it easy with me, please  \\r\\nTouch me gen...  \n",
       "2  I'll never know why I had to go  \\r\\nWhy I had...  \n",
       "3  Making somebody happy is a question of give an...  \n",
       "4  Making somebody happy is a question of give an...  "
      ]
     },
     "execution_count": 358,
     "metadata": {},
     "output_type": "execute_result"
    }
   ],
   "source": [
    "df.head()"
   ]
  },
  {
   "cell_type": "code",
   "execution_count": 359,
   "id": "5a7635d6",
   "metadata": {},
   "outputs": [
    {
     "data": {
      "text/html": [
       "<div>\n",
       "<style scoped>\n",
       "    .dataframe tbody tr th:only-of-type {\n",
       "        vertical-align: middle;\n",
       "    }\n",
       "\n",
       "    .dataframe tbody tr th {\n",
       "        vertical-align: top;\n",
       "    }\n",
       "\n",
       "    .dataframe thead th {\n",
       "        text-align: right;\n",
       "    }\n",
       "</style>\n",
       "<table border=\"1\" class=\"dataframe\">\n",
       "  <thead>\n",
       "    <tr style=\"text-align: right;\">\n",
       "      <th></th>\n",
       "      <th>artist</th>\n",
       "      <th>song</th>\n",
       "      <th>link</th>\n",
       "      <th>text</th>\n",
       "    </tr>\n",
       "  </thead>\n",
       "  <tbody>\n",
       "    <tr>\n",
       "      <th>57645</th>\n",
       "      <td>Ziggy Marley</td>\n",
       "      <td>Good Old Days</td>\n",
       "      <td>/z/ziggy+marley/good+old+days_10198588.html</td>\n",
       "      <td>Irie days come on play  \\r\\nLet the angels fly...</td>\n",
       "    </tr>\n",
       "    <tr>\n",
       "      <th>57646</th>\n",
       "      <td>Ziggy Marley</td>\n",
       "      <td>Hand To Mouth</td>\n",
       "      <td>/z/ziggy+marley/hand+to+mouth_20531167.html</td>\n",
       "      <td>Power to the workers  \\r\\nMore power  \\r\\nPowe...</td>\n",
       "    </tr>\n",
       "    <tr>\n",
       "      <th>57647</th>\n",
       "      <td>Zwan</td>\n",
       "      <td>Come With Me</td>\n",
       "      <td>/z/zwan/come+with+me_20148981.html</td>\n",
       "      <td>all you need  \\r\\nis something i'll believe  \\...</td>\n",
       "    </tr>\n",
       "    <tr>\n",
       "      <th>57648</th>\n",
       "      <td>Zwan</td>\n",
       "      <td>Desire</td>\n",
       "      <td>/z/zwan/desire_20148986.html</td>\n",
       "      <td>northern star  \\r\\nam i frightened  \\r\\nwhere ...</td>\n",
       "    </tr>\n",
       "    <tr>\n",
       "      <th>57649</th>\n",
       "      <td>Zwan</td>\n",
       "      <td>Heartsong</td>\n",
       "      <td>/z/zwan/heartsong_20148991.html</td>\n",
       "      <td>come in  \\r\\nmake yourself at home  \\r\\ni'm a ...</td>\n",
       "    </tr>\n",
       "  </tbody>\n",
       "</table>\n",
       "</div>"
      ],
      "text/plain": [
       "             artist           song  \\\n",
       "57645  Ziggy Marley  Good Old Days   \n",
       "57646  Ziggy Marley  Hand To Mouth   \n",
       "57647          Zwan   Come With Me   \n",
       "57648          Zwan         Desire   \n",
       "57649          Zwan      Heartsong   \n",
       "\n",
       "                                              link  \\\n",
       "57645  /z/ziggy+marley/good+old+days_10198588.html   \n",
       "57646  /z/ziggy+marley/hand+to+mouth_20531167.html   \n",
       "57647           /z/zwan/come+with+me_20148981.html   \n",
       "57648                 /z/zwan/desire_20148986.html   \n",
       "57649              /z/zwan/heartsong_20148991.html   \n",
       "\n",
       "                                                    text  \n",
       "57645  Irie days come on play  \\r\\nLet the angels fly...  \n",
       "57646  Power to the workers  \\r\\nMore power  \\r\\nPowe...  \n",
       "57647  all you need  \\r\\nis something i'll believe  \\...  \n",
       "57648  northern star  \\r\\nam i frightened  \\r\\nwhere ...  \n",
       "57649  come in  \\r\\nmake yourself at home  \\r\\ni'm a ...  "
      ]
     },
     "execution_count": 359,
     "metadata": {},
     "output_type": "execute_result"
    }
   ],
   "source": [
    "df.tail()"
   ]
  },
  {
   "cell_type": "code",
   "execution_count": 360,
   "id": "7197577d",
   "metadata": {},
   "outputs": [
    {
     "data": {
      "text/plain": [
       "(57650, 4)"
      ]
     },
     "execution_count": 360,
     "metadata": {},
     "output_type": "execute_result"
    }
   ],
   "source": [
    "df.shape"
   ]
  },
  {
   "cell_type": "code",
   "execution_count": 361,
   "id": "387669ab",
   "metadata": {},
   "outputs": [
    {
     "data": {
      "text/plain": [
       "artist    0\n",
       "song      0\n",
       "link      0\n",
       "text      0\n",
       "dtype: int64"
      ]
     },
     "execution_count": 361,
     "metadata": {},
     "output_type": "execute_result"
    }
   ],
   "source": [
    "df.isnull().sum()"
   ]
  },
  {
   "cell_type": "code",
   "execution_count": 362,
   "id": "fba02fbb",
   "metadata": {},
   "outputs": [],
   "source": [
    "df = df.sample(6500).drop('link', axis=1, errors='ignore').reset_index(drop=True)\n"
   ]
  },
  {
   "cell_type": "code",
   "execution_count": 363,
   "id": "cea03d4a",
   "metadata": {},
   "outputs": [
    {
     "data": {
      "text/html": [
       "<div>\n",
       "<style scoped>\n",
       "    .dataframe tbody tr th:only-of-type {\n",
       "        vertical-align: middle;\n",
       "    }\n",
       "\n",
       "    .dataframe tbody tr th {\n",
       "        vertical-align: top;\n",
       "    }\n",
       "\n",
       "    .dataframe thead th {\n",
       "        text-align: right;\n",
       "    }\n",
       "</style>\n",
       "<table border=\"1\" class=\"dataframe\">\n",
       "  <thead>\n",
       "    <tr style=\"text-align: right;\">\n",
       "      <th></th>\n",
       "      <th>artist</th>\n",
       "      <th>song</th>\n",
       "      <th>text</th>\n",
       "    </tr>\n",
       "  </thead>\n",
       "  <tbody>\n",
       "    <tr>\n",
       "      <th>0</th>\n",
       "      <td>Elvis Presley</td>\n",
       "      <td>Cattle Call</td>\n",
       "      <td>(Tex Owens)  \\r\\nThe cattle are prowlin' and t...</td>\n",
       "    </tr>\n",
       "    <tr>\n",
       "      <th>1</th>\n",
       "      <td>Irving Berlin</td>\n",
       "      <td>You Can't Get A Man With A Gun</td>\n",
       "      <td>Oh, my mother was frightened by a shotgun, the...</td>\n",
       "    </tr>\n",
       "    <tr>\n",
       "      <th>2</th>\n",
       "      <td>Queens Of The Stone Age</td>\n",
       "      <td>Back To Dungaree High</td>\n",
       "      <td>I didn't mean to turn you on, no way  \\r\\nJust...</td>\n",
       "    </tr>\n",
       "    <tr>\n",
       "      <th>3</th>\n",
       "      <td>Iggy Pop</td>\n",
       "      <td>1969</td>\n",
       "      <td>Well it's 1969 OK  \\r\\nAll across the USA  \\r\\...</td>\n",
       "    </tr>\n",
       "    <tr>\n",
       "      <th>4</th>\n",
       "      <td>Freestyle</td>\n",
       "      <td>Y</td>\n",
       "      <td>My baby I love you so much forever you and I  ...</td>\n",
       "    </tr>\n",
       "  </tbody>\n",
       "</table>\n",
       "</div>"
      ],
      "text/plain": [
       "                    artist                            song  \\\n",
       "0            Elvis Presley                     Cattle Call   \n",
       "1            Irving Berlin  You Can't Get A Man With A Gun   \n",
       "2  Queens Of The Stone Age           Back To Dungaree High   \n",
       "3                 Iggy Pop                            1969   \n",
       "4                Freestyle                               Y   \n",
       "\n",
       "                                                text  \n",
       "0  (Tex Owens)  \\r\\nThe cattle are prowlin' and t...  \n",
       "1  Oh, my mother was frightened by a shotgun, the...  \n",
       "2  I didn't mean to turn you on, no way  \\r\\nJust...  \n",
       "3  Well it's 1969 OK  \\r\\nAll across the USA  \\r\\...  \n",
       "4  My baby I love you so much forever you and I  ...  "
      ]
     },
     "execution_count": 363,
     "metadata": {},
     "output_type": "execute_result"
    }
   ],
   "source": [
    "df.head()"
   ]
  },
  {
   "cell_type": "code",
   "execution_count": 364,
   "id": "bc6ac165",
   "metadata": {},
   "outputs": [
    {
     "data": {
      "text/plain": [
       "\"(Tex Owens)  \\r\\nThe cattle are prowlin' and the coyotes are howlin'  \\r\\nWay out where the dogies bawl  \\r\\nWhere spurs are a-jinglin' a cowboy is singin'  \\r\\nThis lonesome cattle call  \\r\\nWoo-hoo woo-hoo hoo hoo  \\r\\nWoo-hoo woo-hoo hoo hoo  \\r\\nWoo-hoo woo-hoo hoo hoo hoo  \\r\\nWoo-hoo woo-hoo hoo  \\r\\nHe rides in the sun, till his days work is done  \\r\\nAnd he rounds up the cattle each fall  \\r\\nWoo-hoo woo-hoo hoo hoo  \\r\\nSingin' his cattle call.  \\r\\nFor hours he will ride on the range far and wide  \\r\\nWhen the night wind blows up a squall  \\r\\nHis heart is a feather in all kinds of weather  \\r\\nHe sings his cattle call  \\r\\nWoo-hoo woo-hoo hoo hoo  \\r\\nWoo-hoo woo-hoo hoo hoo  \\r\\nWoo-hoo woo-hoo hoo hoo hoo  \\r\\nWoo-hoo woo-hoo hoo  \\r\\nHe's brown as a berry from ridin' the prairie  \\r\\nAnd sings with an ol' western drawl  \\r\\nWoo-hoo woo-hoo hoo hoo  \\r\\nSingin' his cattle call\\r\\n\\r\\n\""
      ]
     },
     "execution_count": 364,
     "metadata": {},
     "output_type": "execute_result"
    }
   ],
   "source": [
    "df[\"text\"][0]"
   ]
  },
  {
   "cell_type": "code",
   "execution_count": 365,
   "id": "707b593f",
   "metadata": {},
   "outputs": [],
   "source": [
    "df['text']=df['text'] = df['text'].str.lower().str.replace(r'^\\w\\s', ' ').replace(r'\\n', '', regex=True)"
   ]
  },
  {
   "cell_type": "code",
   "execution_count": 366,
   "id": "eb8f0a5b",
   "metadata": {},
   "outputs": [
    {
     "data": {
      "text/html": [
       "<div>\n",
       "<style scoped>\n",
       "    .dataframe tbody tr th:only-of-type {\n",
       "        vertical-align: middle;\n",
       "    }\n",
       "\n",
       "    .dataframe tbody tr th {\n",
       "        vertical-align: top;\n",
       "    }\n",
       "\n",
       "    .dataframe thead th {\n",
       "        text-align: right;\n",
       "    }\n",
       "</style>\n",
       "<table border=\"1\" class=\"dataframe\">\n",
       "  <thead>\n",
       "    <tr style=\"text-align: right;\">\n",
       "      <th></th>\n",
       "      <th>artist</th>\n",
       "      <th>song</th>\n",
       "      <th>text</th>\n",
       "    </tr>\n",
       "  </thead>\n",
       "  <tbody>\n",
       "    <tr>\n",
       "      <th>0</th>\n",
       "      <td>Elvis Presley</td>\n",
       "      <td>Cattle Call</td>\n",
       "      <td>(tex owens)  \\rthe cattle are prowlin' and the...</td>\n",
       "    </tr>\n",
       "    <tr>\n",
       "      <th>1</th>\n",
       "      <td>Irving Berlin</td>\n",
       "      <td>You Can't Get A Man With A Gun</td>\n",
       "      <td>oh, my mother was frightened by a shotgun, the...</td>\n",
       "    </tr>\n",
       "    <tr>\n",
       "      <th>2</th>\n",
       "      <td>Queens Of The Stone Age</td>\n",
       "      <td>Back To Dungaree High</td>\n",
       "      <td>i didn't mean to turn you on, no way  \\rjust w...</td>\n",
       "    </tr>\n",
       "    <tr>\n",
       "      <th>3</th>\n",
       "      <td>Iggy Pop</td>\n",
       "      <td>1969</td>\n",
       "      <td>well it's 1969 ok  \\rall across the usa  \\rit'...</td>\n",
       "    </tr>\n",
       "    <tr>\n",
       "      <th>4</th>\n",
       "      <td>Freestyle</td>\n",
       "      <td>Y</td>\n",
       "      <td>my baby i love you so much forever you and i  ...</td>\n",
       "    </tr>\n",
       "  </tbody>\n",
       "</table>\n",
       "</div>"
      ],
      "text/plain": [
       "                    artist                            song  \\\n",
       "0            Elvis Presley                     Cattle Call   \n",
       "1            Irving Berlin  You Can't Get A Man With A Gun   \n",
       "2  Queens Of The Stone Age           Back To Dungaree High   \n",
       "3                 Iggy Pop                            1969   \n",
       "4                Freestyle                               Y   \n",
       "\n",
       "                                                text  \n",
       "0  (tex owens)  \\rthe cattle are prowlin' and the...  \n",
       "1  oh, my mother was frightened by a shotgun, the...  \n",
       "2  i didn't mean to turn you on, no way  \\rjust w...  \n",
       "3  well it's 1969 ok  \\rall across the usa  \\rit'...  \n",
       "4  my baby i love you so much forever you and i  ...  "
      ]
     },
     "execution_count": 366,
     "metadata": {},
     "output_type": "execute_result"
    }
   ],
   "source": [
    "df.head()"
   ]
  },
  {
   "cell_type": "code",
   "execution_count": 367,
   "id": "311d4171",
   "metadata": {},
   "outputs": [],
   "source": [
    "import nltk\n",
    "from nltk.stem.porter import PorterStemmer"
   ]
  },
  {
   "cell_type": "code",
   "execution_count": 368,
   "id": "a57516e7",
   "metadata": {},
   "outputs": [],
   "source": [
    "stemmer = PorterStemmer()"
   ]
  },
  {
   "cell_type": "code",
   "execution_count": 369,
   "id": "8ae0511b",
   "metadata": {},
   "outputs": [],
   "source": [
    "def token(txt):\n",
    "    token = nltk.word_tokenize(txt)\n",
    "    a = [stemmer.stem(i) for i in token]\n",
    "    return \" \".join(a)"
   ]
  },
  {
   "cell_type": "code",
   "execution_count": 370,
   "id": "18a174f9",
   "metadata": {},
   "outputs": [
    {
     "data": {
      "text/plain": [
       "'you are run faster than the other'"
      ]
     },
     "execution_count": 370,
     "metadata": {},
     "output_type": "execute_result"
    }
   ],
   "source": [
    "token(\"you are running faster than the others\")"
   ]
  },
  {
   "cell_type": "code",
   "execution_count": 371,
   "id": "c3532a39",
   "metadata": {},
   "outputs": [],
   "source": [
    "df['text'] = df['text'].apply(token)"
   ]
  },
  {
   "cell_type": "code",
   "execution_count": 372,
   "id": "99fa40da",
   "metadata": {},
   "outputs": [],
   "source": [
    "from sklearn.feature_extraction.text import TfidfVectorizer\n",
    "from sklearn.metrics.pairwise import cosine_similarity"
   ]
  },
  {
   "cell_type": "code",
   "execution_count": 373,
   "id": "ba4789ec",
   "metadata": {},
   "outputs": [],
   "source": [
    "tfid = TfidfVectorizer( analyzer='word', stop_words='english') "
   ]
  },
  {
   "cell_type": "code",
   "execution_count": 374,
   "id": "67bc477e",
   "metadata": {},
   "outputs": [],
   "source": [
    "matrix = tfid.fit_transform(df['text'])"
   ]
  },
  {
   "cell_type": "code",
   "execution_count": 375,
   "id": "a5d6451f",
   "metadata": {},
   "outputs": [],
   "source": [
    "similar = cosine_similarity(matrix)"
   ]
  },
  {
   "cell_type": "code",
   "execution_count": 376,
   "id": "6d5e3d03",
   "metadata": {},
   "outputs": [
    {
     "data": {
      "text/plain": [
       "array([1.00000000e+00, 1.21549257e-02, 1.65227814e-03, ...,\n",
       "       0.00000000e+00, 0.00000000e+00, 3.69057137e-04])"
      ]
     },
     "execution_count": 376,
     "metadata": {},
     "output_type": "execute_result"
    }
   ],
   "source": [
    "similar[0]"
   ]
  },
  {
   "cell_type": "code",
   "execution_count": 377,
   "id": "fd505b06",
   "metadata": {},
   "outputs": [
    {
     "name": "stdout",
     "output_type": "stream",
     "text": [
      "['Fields Of People' \"Nothin' To Lose\" 'Bladerunner' 'Hooked On A Feeling'\n",
      " 'Am I Evil?' 'Hymn To Her' 'Hand Of Providence' 'Born To Fight'\n",
      " 'Beginning Of The End' 'Demons']\n"
     ]
    }
   ],
   "source": [
    "print(df['song'].sample(10).values)\n"
   ]
  },
  {
   "cell_type": "code",
   "execution_count": 378,
   "id": "5b09aa2a",
   "metadata": {},
   "outputs": [],
   "source": [
    "def recommender(song_name):\n",
    "    matches = df[df['song'].str.lower() == song_name.lower()]\n",
    "    if matches.empty:\n",
    "        return f\"❌ The song '{song_name}' was not found in the dataset.\"\n",
    "    \n",
    "    idx = matches.index[0]\n",
    "    distances = sorted(list(enumerate(similar[idx])), key=lambda x: x[1], reverse=True)\n",
    "    \n",
    "    songs = []\n",
    "    for i in distances[1:6]:  # skip itself\n",
    "        songs.append(df.iloc[i[0]]['song'])\n",
    "    return songs"
   ]
  },
  {
   "cell_type": "code",
   "execution_count": 379,
   "id": "5feeef83",
   "metadata": {},
   "outputs": [
    {
     "data": {
      "text/plain": [
       "[\"Don't Go Breaking My Heart\",\n",
       " 'Last Christmas',\n",
       " 'Give Your Heart A Break',\n",
       " 'Love You By Heart',\n",
       " 'You Put This Love In My Heart']"
      ]
     },
     "execution_count": 379,
     "metadata": {},
     "output_type": "execute_result"
    }
   ],
   "source": [
    "recommender(\"If I Gave My Heart To You\")"
   ]
  }
 ],
 "metadata": {
  "kernelspec": {
   "display_name": "Python 3",
   "language": "python",
   "name": "python3"
  },
  "language_info": {
   "codemirror_mode": {
    "name": "ipython",
    "version": 3
   },
   "file_extension": ".py",
   "mimetype": "text/x-python",
   "name": "python",
   "nbconvert_exporter": "python",
   "pygments_lexer": "ipython3",
   "version": "3.11.9"
  }
 },
 "nbformat": 4,
 "nbformat_minor": 5
}
