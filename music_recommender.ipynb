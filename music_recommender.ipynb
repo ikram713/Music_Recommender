{
 "cells": [
  {
   "cell_type": "code",
   "execution_count": 324,
   "id": "cd398871",
   "metadata": {},
   "outputs": [],
   "source": [
    "import os\n",
    "import pandas as pd"
   ]
  },
  {
   "cell_type": "code",
   "execution_count": 325,
   "id": "22f36a99",
   "metadata": {},
   "outputs": [],
   "source": [
    "df = pd.read_csv('Data/spotify_millsongdata.csv')"
   ]
  },
  {
   "cell_type": "code",
   "execution_count": 326,
   "id": "947299a0",
   "metadata": {},
   "outputs": [
    {
     "data": {
      "text/html": [
       "<div>\n",
       "<style scoped>\n",
       "    .dataframe tbody tr th:only-of-type {\n",
       "        vertical-align: middle;\n",
       "    }\n",
       "\n",
       "    .dataframe tbody tr th {\n",
       "        vertical-align: top;\n",
       "    }\n",
       "\n",
       "    .dataframe thead th {\n",
       "        text-align: right;\n",
       "    }\n",
       "</style>\n",
       "<table border=\"1\" class=\"dataframe\">\n",
       "  <thead>\n",
       "    <tr style=\"text-align: right;\">\n",
       "      <th></th>\n",
       "      <th>artist</th>\n",
       "      <th>song</th>\n",
       "      <th>link</th>\n",
       "      <th>text</th>\n",
       "    </tr>\n",
       "  </thead>\n",
       "  <tbody>\n",
       "    <tr>\n",
       "      <th>0</th>\n",
       "      <td>ABBA</td>\n",
       "      <td>Ahe's My Kind Of Girl</td>\n",
       "      <td>/a/abba/ahes+my+kind+of+girl_20598417.html</td>\n",
       "      <td>Look at her face, it's a wonderful face  \\r\\nA...</td>\n",
       "    </tr>\n",
       "    <tr>\n",
       "      <th>1</th>\n",
       "      <td>ABBA</td>\n",
       "      <td>Andante, Andante</td>\n",
       "      <td>/a/abba/andante+andante_20002708.html</td>\n",
       "      <td>Take it easy with me, please  \\r\\nTouch me gen...</td>\n",
       "    </tr>\n",
       "    <tr>\n",
       "      <th>2</th>\n",
       "      <td>ABBA</td>\n",
       "      <td>As Good As New</td>\n",
       "      <td>/a/abba/as+good+as+new_20003033.html</td>\n",
       "      <td>I'll never know why I had to go  \\r\\nWhy I had...</td>\n",
       "    </tr>\n",
       "    <tr>\n",
       "      <th>3</th>\n",
       "      <td>ABBA</td>\n",
       "      <td>Bang</td>\n",
       "      <td>/a/abba/bang_20598415.html</td>\n",
       "      <td>Making somebody happy is a question of give an...</td>\n",
       "    </tr>\n",
       "    <tr>\n",
       "      <th>4</th>\n",
       "      <td>ABBA</td>\n",
       "      <td>Bang-A-Boomerang</td>\n",
       "      <td>/a/abba/bang+a+boomerang_20002668.html</td>\n",
       "      <td>Making somebody happy is a question of give an...</td>\n",
       "    </tr>\n",
       "  </tbody>\n",
       "</table>\n",
       "</div>"
      ],
      "text/plain": [
       "  artist                   song                                        link  \\\n",
       "0   ABBA  Ahe's My Kind Of Girl  /a/abba/ahes+my+kind+of+girl_20598417.html   \n",
       "1   ABBA       Andante, Andante       /a/abba/andante+andante_20002708.html   \n",
       "2   ABBA         As Good As New        /a/abba/as+good+as+new_20003033.html   \n",
       "3   ABBA                   Bang                  /a/abba/bang_20598415.html   \n",
       "4   ABBA       Bang-A-Boomerang      /a/abba/bang+a+boomerang_20002668.html   \n",
       "\n",
       "                                                text  \n",
       "0  Look at her face, it's a wonderful face  \\r\\nA...  \n",
       "1  Take it easy with me, please  \\r\\nTouch me gen...  \n",
       "2  I'll never know why I had to go  \\r\\nWhy I had...  \n",
       "3  Making somebody happy is a question of give an...  \n",
       "4  Making somebody happy is a question of give an...  "
      ]
     },
     "execution_count": 326,
     "metadata": {},
     "output_type": "execute_result"
    }
   ],
   "source": [
    "df.head()"
   ]
  },
  {
   "cell_type": "code",
   "execution_count": 327,
   "id": "5a7635d6",
   "metadata": {},
   "outputs": [
    {
     "data": {
      "text/html": [
       "<div>\n",
       "<style scoped>\n",
       "    .dataframe tbody tr th:only-of-type {\n",
       "        vertical-align: middle;\n",
       "    }\n",
       "\n",
       "    .dataframe tbody tr th {\n",
       "        vertical-align: top;\n",
       "    }\n",
       "\n",
       "    .dataframe thead th {\n",
       "        text-align: right;\n",
       "    }\n",
       "</style>\n",
       "<table border=\"1\" class=\"dataframe\">\n",
       "  <thead>\n",
       "    <tr style=\"text-align: right;\">\n",
       "      <th></th>\n",
       "      <th>artist</th>\n",
       "      <th>song</th>\n",
       "      <th>link</th>\n",
       "      <th>text</th>\n",
       "    </tr>\n",
       "  </thead>\n",
       "  <tbody>\n",
       "    <tr>\n",
       "      <th>57645</th>\n",
       "      <td>Ziggy Marley</td>\n",
       "      <td>Good Old Days</td>\n",
       "      <td>/z/ziggy+marley/good+old+days_10198588.html</td>\n",
       "      <td>Irie days come on play  \\r\\nLet the angels fly...</td>\n",
       "    </tr>\n",
       "    <tr>\n",
       "      <th>57646</th>\n",
       "      <td>Ziggy Marley</td>\n",
       "      <td>Hand To Mouth</td>\n",
       "      <td>/z/ziggy+marley/hand+to+mouth_20531167.html</td>\n",
       "      <td>Power to the workers  \\r\\nMore power  \\r\\nPowe...</td>\n",
       "    </tr>\n",
       "    <tr>\n",
       "      <th>57647</th>\n",
       "      <td>Zwan</td>\n",
       "      <td>Come With Me</td>\n",
       "      <td>/z/zwan/come+with+me_20148981.html</td>\n",
       "      <td>all you need  \\r\\nis something i'll believe  \\...</td>\n",
       "    </tr>\n",
       "    <tr>\n",
       "      <th>57648</th>\n",
       "      <td>Zwan</td>\n",
       "      <td>Desire</td>\n",
       "      <td>/z/zwan/desire_20148986.html</td>\n",
       "      <td>northern star  \\r\\nam i frightened  \\r\\nwhere ...</td>\n",
       "    </tr>\n",
       "    <tr>\n",
       "      <th>57649</th>\n",
       "      <td>Zwan</td>\n",
       "      <td>Heartsong</td>\n",
       "      <td>/z/zwan/heartsong_20148991.html</td>\n",
       "      <td>come in  \\r\\nmake yourself at home  \\r\\ni'm a ...</td>\n",
       "    </tr>\n",
       "  </tbody>\n",
       "</table>\n",
       "</div>"
      ],
      "text/plain": [
       "             artist           song  \\\n",
       "57645  Ziggy Marley  Good Old Days   \n",
       "57646  Ziggy Marley  Hand To Mouth   \n",
       "57647          Zwan   Come With Me   \n",
       "57648          Zwan         Desire   \n",
       "57649          Zwan      Heartsong   \n",
       "\n",
       "                                              link  \\\n",
       "57645  /z/ziggy+marley/good+old+days_10198588.html   \n",
       "57646  /z/ziggy+marley/hand+to+mouth_20531167.html   \n",
       "57647           /z/zwan/come+with+me_20148981.html   \n",
       "57648                 /z/zwan/desire_20148986.html   \n",
       "57649              /z/zwan/heartsong_20148991.html   \n",
       "\n",
       "                                                    text  \n",
       "57645  Irie days come on play  \\r\\nLet the angels fly...  \n",
       "57646  Power to the workers  \\r\\nMore power  \\r\\nPowe...  \n",
       "57647  all you need  \\r\\nis something i'll believe  \\...  \n",
       "57648  northern star  \\r\\nam i frightened  \\r\\nwhere ...  \n",
       "57649  come in  \\r\\nmake yourself at home  \\r\\ni'm a ...  "
      ]
     },
     "execution_count": 327,
     "metadata": {},
     "output_type": "execute_result"
    }
   ],
   "source": [
    "df.tail()"
   ]
  },
  {
   "cell_type": "code",
   "execution_count": 328,
   "id": "7197577d",
   "metadata": {},
   "outputs": [
    {
     "data": {
      "text/plain": [
       "(57650, 4)"
      ]
     },
     "execution_count": 328,
     "metadata": {},
     "output_type": "execute_result"
    }
   ],
   "source": [
    "df.shape"
   ]
  },
  {
   "cell_type": "code",
   "execution_count": 329,
   "id": "387669ab",
   "metadata": {},
   "outputs": [
    {
     "data": {
      "text/plain": [
       "artist    0\n",
       "song      0\n",
       "link      0\n",
       "text      0\n",
       "dtype: int64"
      ]
     },
     "execution_count": 329,
     "metadata": {},
     "output_type": "execute_result"
    }
   ],
   "source": [
    "df.isnull().sum()"
   ]
  },
  {
   "cell_type": "code",
   "execution_count": 330,
   "id": "fba02fbb",
   "metadata": {},
   "outputs": [],
   "source": [
    "df = df.sample(6500).drop('link', axis=1, errors='ignore').reset_index(drop=True)\n"
   ]
  },
  {
   "cell_type": "code",
   "execution_count": 331,
   "id": "cea03d4a",
   "metadata": {},
   "outputs": [
    {
     "data": {
      "text/html": [
       "<div>\n",
       "<style scoped>\n",
       "    .dataframe tbody tr th:only-of-type {\n",
       "        vertical-align: middle;\n",
       "    }\n",
       "\n",
       "    .dataframe tbody tr th {\n",
       "        vertical-align: top;\n",
       "    }\n",
       "\n",
       "    .dataframe thead th {\n",
       "        text-align: right;\n",
       "    }\n",
       "</style>\n",
       "<table border=\"1\" class=\"dataframe\">\n",
       "  <thead>\n",
       "    <tr style=\"text-align: right;\">\n",
       "      <th></th>\n",
       "      <th>artist</th>\n",
       "      <th>song</th>\n",
       "      <th>text</th>\n",
       "    </tr>\n",
       "  </thead>\n",
       "  <tbody>\n",
       "    <tr>\n",
       "      <th>0</th>\n",
       "      <td>Pogues</td>\n",
       "      <td>Modern World</td>\n",
       "      <td>Mary's sellin' flowers on a stall in EC1  \\r\\n...</td>\n",
       "    </tr>\n",
       "    <tr>\n",
       "      <th>1</th>\n",
       "      <td>Ufo</td>\n",
       "      <td>Rock Bottom</td>\n",
       "      <td>Seventeen a nature's queen, know what I mean  ...</td>\n",
       "    </tr>\n",
       "    <tr>\n",
       "      <th>2</th>\n",
       "      <td>Isley Brothers</td>\n",
       "      <td>Stop! In The Name Of Love</td>\n",
       "      <td>Stop! In The Name Of Love  \\r\\nBefore you brea...</td>\n",
       "    </tr>\n",
       "    <tr>\n",
       "      <th>3</th>\n",
       "      <td>Quietdrive</td>\n",
       "      <td>I Lie Awake</td>\n",
       "      <td>I lie awake  \\r\\nBecause I'm scared  \\r\\nI'm n...</td>\n",
       "    </tr>\n",
       "    <tr>\n",
       "      <th>4</th>\n",
       "      <td>Neil Diamond</td>\n",
       "      <td>I'm Guilty</td>\n",
       "      <td>Whenever I get down  \\r\\nI look to someone els...</td>\n",
       "    </tr>\n",
       "  </tbody>\n",
       "</table>\n",
       "</div>"
      ],
      "text/plain": [
       "           artist                       song  \\\n",
       "0          Pogues               Modern World   \n",
       "1             Ufo                Rock Bottom   \n",
       "2  Isley Brothers  Stop! In The Name Of Love   \n",
       "3      Quietdrive                I Lie Awake   \n",
       "4    Neil Diamond                 I'm Guilty   \n",
       "\n",
       "                                                text  \n",
       "0  Mary's sellin' flowers on a stall in EC1  \\r\\n...  \n",
       "1  Seventeen a nature's queen, know what I mean  ...  \n",
       "2  Stop! In The Name Of Love  \\r\\nBefore you brea...  \n",
       "3  I lie awake  \\r\\nBecause I'm scared  \\r\\nI'm n...  \n",
       "4  Whenever I get down  \\r\\nI look to someone els...  "
      ]
     },
     "execution_count": 331,
     "metadata": {},
     "output_type": "execute_result"
    }
   ],
   "source": [
    "df.head()"
   ]
  },
  {
   "cell_type": "code",
   "execution_count": 332,
   "id": "bc6ac165",
   "metadata": {},
   "outputs": [
    {
     "data": {
      "text/plain": [
       "\"Mary's sellin' flowers on a stall in EC1  \\r\\nTonight she'll be out lookin' for some fun  \\r\\nHer mate, Gerry's in the basement, he hasn't got a home  \\r\\nBut prides himself that he's got most things done  \\r\\nMeanwhile, I'm up on the roof  \\r\\nWaitin' for the sun to shine  \\r\\nI haven't got an excuse  \\r\\nSo, I'll just keep my head down  \\r\\nDavid's in the city, he's just made a deal  \\r\\nAnd the boys they want to take his trousers down  \\r\\nSo they buy some little pills which will make poor David ill  \\r\\nAnd they find themselves in some club downtown  \\r\\nMeanwhile, I got off the roof  \\r\\n'cause the rain keeps pouring down  \\r\\nAnd I haven't got a clue  \\r\\nWhy there's faith in all these clowns  \\r\\nThis is the modern world  \\r\\nThis is the modern world  \\r\\nJim and Jane hit the grapevine 'cause they're lookin' for a party  \\r\\nA secret number knows where it can be found  \\r\\nSo they pick up Pete and Sheila, then they head down the M40  \\r\\nBut someone said they closed the country down  \\r\\nMeanwhile, I've locked myself in the kitchen  \\r\\nWaitin' for the storm to pass  \\r\\nAnd if there's too much damage  \\r\\nI think I'll get the fuck out fast  \\r\\nThis is the modern world  \\r\\nThis is the modern world  \\r\\nThis is the modern world  \\r\\nThis is the modern world  \\r\\nThis is the modern world  \\r\\n\\r\\n\""
      ]
     },
     "execution_count": 332,
     "metadata": {},
     "output_type": "execute_result"
    }
   ],
   "source": [
    "df[\"text\"][0]"
   ]
  },
  {
   "cell_type": "code",
   "execution_count": 333,
   "id": "707b593f",
   "metadata": {},
   "outputs": [],
   "source": [
    "df['text']=df['text'] = df['text'].str.lower().str.replace(r'^\\w\\s', ' ').replace(r'\\n', '', regex=True)"
   ]
  },
  {
   "cell_type": "code",
   "execution_count": 334,
   "id": "eb8f0a5b",
   "metadata": {},
   "outputs": [
    {
     "data": {
      "text/html": [
       "<div>\n",
       "<style scoped>\n",
       "    .dataframe tbody tr th:only-of-type {\n",
       "        vertical-align: middle;\n",
       "    }\n",
       "\n",
       "    .dataframe tbody tr th {\n",
       "        vertical-align: top;\n",
       "    }\n",
       "\n",
       "    .dataframe thead th {\n",
       "        text-align: right;\n",
       "    }\n",
       "</style>\n",
       "<table border=\"1\" class=\"dataframe\">\n",
       "  <thead>\n",
       "    <tr style=\"text-align: right;\">\n",
       "      <th></th>\n",
       "      <th>artist</th>\n",
       "      <th>song</th>\n",
       "      <th>text</th>\n",
       "    </tr>\n",
       "  </thead>\n",
       "  <tbody>\n",
       "    <tr>\n",
       "      <th>0</th>\n",
       "      <td>Pogues</td>\n",
       "      <td>Modern World</td>\n",
       "      <td>mary's sellin' flowers on a stall in ec1  \\rto...</td>\n",
       "    </tr>\n",
       "    <tr>\n",
       "      <th>1</th>\n",
       "      <td>Ufo</td>\n",
       "      <td>Rock Bottom</td>\n",
       "      <td>seventeen a nature's queen, know what i mean  ...</td>\n",
       "    </tr>\n",
       "    <tr>\n",
       "      <th>2</th>\n",
       "      <td>Isley Brothers</td>\n",
       "      <td>Stop! In The Name Of Love</td>\n",
       "      <td>stop! in the name of love  \\rbefore you break ...</td>\n",
       "    </tr>\n",
       "    <tr>\n",
       "      <th>3</th>\n",
       "      <td>Quietdrive</td>\n",
       "      <td>I Lie Awake</td>\n",
       "      <td>i lie awake  \\rbecause i'm scared  \\ri'm not a...</td>\n",
       "    </tr>\n",
       "    <tr>\n",
       "      <th>4</th>\n",
       "      <td>Neil Diamond</td>\n",
       "      <td>I'm Guilty</td>\n",
       "      <td>whenever i get down  \\ri look to someone else ...</td>\n",
       "    </tr>\n",
       "  </tbody>\n",
       "</table>\n",
       "</div>"
      ],
      "text/plain": [
       "           artist                       song  \\\n",
       "0          Pogues               Modern World   \n",
       "1             Ufo                Rock Bottom   \n",
       "2  Isley Brothers  Stop! In The Name Of Love   \n",
       "3      Quietdrive                I Lie Awake   \n",
       "4    Neil Diamond                 I'm Guilty   \n",
       "\n",
       "                                                text  \n",
       "0  mary's sellin' flowers on a stall in ec1  \\rto...  \n",
       "1  seventeen a nature's queen, know what i mean  ...  \n",
       "2  stop! in the name of love  \\rbefore you break ...  \n",
       "3  i lie awake  \\rbecause i'm scared  \\ri'm not a...  \n",
       "4  whenever i get down  \\ri look to someone else ...  "
      ]
     },
     "execution_count": 334,
     "metadata": {},
     "output_type": "execute_result"
    }
   ],
   "source": [
    "df.head()"
   ]
  },
  {
   "cell_type": "code",
   "execution_count": 335,
   "id": "311d4171",
   "metadata": {},
   "outputs": [],
   "source": [
    "import nltk\n",
    "from nltk.stem.porter import PorterStemmer"
   ]
  },
  {
   "cell_type": "code",
   "execution_count": 336,
   "id": "a57516e7",
   "metadata": {},
   "outputs": [],
   "source": [
    "stemmer = PorterStemmer()"
   ]
  },
  {
   "cell_type": "code",
   "execution_count": 337,
   "id": "8ae0511b",
   "metadata": {},
   "outputs": [],
   "source": [
    "def token(txt):\n",
    "    token = nltk.word_tokenize(txt)\n",
    "    a = [stemmer.stem(i) for i in token]\n",
    "    return \" \".join(a)"
   ]
  },
  {
   "cell_type": "code",
   "execution_count": 338,
   "id": "18a174f9",
   "metadata": {},
   "outputs": [
    {
     "data": {
      "text/plain": [
       "'you are run faster than the other'"
      ]
     },
     "execution_count": 338,
     "metadata": {},
     "output_type": "execute_result"
    }
   ],
   "source": [
    "token(\"you are running faster than the others\")"
   ]
  },
  {
   "cell_type": "code",
   "execution_count": 339,
   "id": "c3532a39",
   "metadata": {},
   "outputs": [],
   "source": [
    "df['text'] = df['text'].apply(token)"
   ]
  },
  {
   "cell_type": "code",
   "execution_count": 340,
   "id": "99fa40da",
   "metadata": {},
   "outputs": [],
   "source": [
    "from sklearn.feature_extraction.text import TfidfVectorizer\n",
    "from sklearn.metrics.pairwise import cosine_similarity"
   ]
  },
  {
   "cell_type": "code",
   "execution_count": 341,
   "id": "ba4789ec",
   "metadata": {},
   "outputs": [],
   "source": [
    "tfid = TfidfVectorizer( analyzer='word', stop_words='english') "
   ]
  },
  {
   "cell_type": "code",
   "execution_count": 342,
   "id": "67bc477e",
   "metadata": {},
   "outputs": [],
   "source": [
    "matrix = tfid.fit_transform(df['text'])"
   ]
  },
  {
   "cell_type": "code",
   "execution_count": 343,
   "id": "a5d6451f",
   "metadata": {},
   "outputs": [],
   "source": [
    "similar = cosine_similarity(matrix)"
   ]
  },
  {
   "cell_type": "code",
   "execution_count": 344,
   "id": "6d5e3d03",
   "metadata": {},
   "outputs": [
    {
     "data": {
      "text/plain": [
       "array([1.        , 0.01121946, 0.03509332, ..., 0.07080833, 0.00559091,\n",
       "       0.00614794])"
      ]
     },
     "execution_count": 344,
     "metadata": {},
     "output_type": "execute_result"
    }
   ],
   "source": [
    "similar[0]"
   ]
  },
  {
   "cell_type": "code",
   "execution_count": 345,
   "id": "fd505b06",
   "metadata": {},
   "outputs": [
    {
     "name": "stdout",
     "output_type": "stream",
     "text": [
      "['If I Gave My Heart To You' 'The Speed Of Pain' 'Paradise'\n",
      " 'I Could Not Love You More' 'Hear My Train A Coming' 'You Alone'\n",
      " 'Foreigner Suite' 'Beyond The Wheel' 'Rocketman' 'Queen Of Torture']\n"
     ]
    }
   ],
   "source": [
    "print(df['song'].sample(10).values)\n"
   ]
  },
  {
   "cell_type": "code",
   "execution_count": 349,
   "id": "5b09aa2a",
   "metadata": {},
   "outputs": [],
   "source": [
    "def recommender(song_name, similar_matrix, df):\n",
    "    matches = df[df['song'].str.lower() == song_name.lower()]\n",
    "    if matches.empty:\n",
    "        return f\"❌ The song '{song_name}' was not found in the dataset.\"\n",
    "    \n",
    "    idx = matches.index[0]\n",
    "    distances = sorted(list(enumerate(similar_matrix[idx])), key=lambda x: x[1], reverse=True)\n",
    "    \n",
    "    songs = []\n",
    "    for i in distances[1:6]:  # skip itself\n",
    "        songs.append(df.iloc[i[0]]['song'])\n",
    "    return songs\n"
   ]
  },
  {
   "cell_type": "code",
   "execution_count": 351,
   "id": "5feeef83",
   "metadata": {},
   "outputs": [
    {
     "data": {
      "text/plain": [
       "['Live Forever',\n",
       " \"Don't Go Breaking My Heart\",\n",
       " 'Restless',\n",
       " 'Hearts',\n",
       " \"Don't Let It Go To Your Heart\"]"
      ]
     },
     "execution_count": 351,
     "metadata": {},
     "output_type": "execute_result"
    }
   ],
   "source": [
    "recommender(\"If I Gave My Heart To You\", similar, df)\n"
   ]
  }
 ],
 "metadata": {
  "kernelspec": {
   "display_name": "Python 3",
   "language": "python",
   "name": "python3"
  },
  "language_info": {
   "codemirror_mode": {
    "name": "ipython",
    "version": 3
   },
   "file_extension": ".py",
   "mimetype": "text/x-python",
   "name": "python",
   "nbconvert_exporter": "python",
   "pygments_lexer": "ipython3",
   "version": "3.11.9"
  }
 },
 "nbformat": 4,
 "nbformat_minor": 5
}
